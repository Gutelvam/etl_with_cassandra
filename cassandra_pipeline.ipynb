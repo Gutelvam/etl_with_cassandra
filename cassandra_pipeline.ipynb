{
 "cells": [
  {
   "cell_type": "markdown",
   "metadata": {},
   "source": [
    "# Part I. ETL Pipeline for Pre-Processing the Files"
   ]
  },
  {
   "cell_type": "markdown",
   "metadata": {},
   "source": [
    "## PLEASE RUN THE FOLLOWING CODE FOR PRE-PROCESSING THE FILES"
   ]
  },
  {
   "cell_type": "markdown",
   "metadata": {},
   "source": [
    "#### Import Python packages "
   ]
  },
  {
   "cell_type": "code",
   "execution_count": 1,
   "metadata": {},
   "outputs": [],
   "source": [
    "# Import Python packages \n",
    "import pandas as pd\n",
    "import cassandra\n",
    "import re\n",
    "import os\n",
    "import glob\n",
    "import numpy as np\n",
    "import json\n",
    "import csv"
   ]
  },
  {
   "cell_type": "markdown",
   "metadata": {},
   "source": [
    "#### Creating list of filepaths to process original event csv data files"
   ]
  },
  {
   "cell_type": "code",
   "execution_count": 2,
   "metadata": {},
   "outputs": [
    {
     "name": "stdout",
     "output_type": "stream",
     "text": [
      "/home/workspace\n"
     ]
    }
   ],
   "source": [
    "# checking your current working directory\n",
    "print(os.getcwd())\n",
    "\n",
    "# Get your current folder and subfolder event data\n",
    "filepath = os.getcwd() + '/event_data'\n",
    "\n",
    "# Create a for loop to create a list of files and collect each filepath\n",
    "for root, dirs, files in os.walk(filepath):\n",
    "    \n",
    "# join the file path and roots with the subdirectories using glob\n",
    "    file_path_list = glob.glob(os.path.join(root,'*'))\n",
    "    #print(file_path_list)"
   ]
  },
  {
   "cell_type": "markdown",
   "metadata": {},
   "source": [
    "#### Processing the files to create the data file csv that will be used for Apache Casssandra tables"
   ]
  },
  {
   "cell_type": "code",
   "execution_count": 3,
   "metadata": {},
   "outputs": [],
   "source": [
    "# initiating an empty list of rows that will be generated from each file\n",
    "full_data_rows_list = [] \n",
    "    \n",
    "# for every filepath in the file path list \n",
    "for f in file_path_list:\n",
    "\n",
    "# reading csv file \n",
    "    with open(f, 'r', encoding = 'utf8', newline='') as csvfile: \n",
    "        # creating a csv reader object \n",
    "        csvreader = csv.reader(csvfile) \n",
    "        next(csvreader)\n",
    "        \n",
    " # extracting each data row one by one and append it        \n",
    "        for line in csvreader:\n",
    "            #print(line)\n",
    "            full_data_rows_list.append(line) \n",
    "            \n",
    "# uncomment the code below if you would like to get total number of rows \n",
    "#print(len(full_data_rows_list))\n",
    "# uncomment the code below if you would like to check to see what the list of event data rows will look like\n",
    "#print(full_data_rows_list)\n",
    "\n",
    "# creating a smaller event data csv file called event_datafile_full csv that will be used to insert data into the \\\n",
    "# Apache Cassandra tables\n",
    "csv.register_dialect('myDialect', quoting=csv.QUOTE_ALL, skipinitialspace=True)\n",
    "\n",
    "with open('event_datafile_new.csv', 'w', encoding = 'utf8', newline='') as f:\n",
    "    writer = csv.writer(f, dialect='myDialect')\n",
    "    writer.writerow(['artist','firstName','gender','itemInSession','lastName','length',\\\n",
    "                'level','location','sessionId','song','userId'])\n",
    "    for row in full_data_rows_list:\n",
    "        if (row[0] == ''):\n",
    "            continue\n",
    "        writer.writerow((row[0], row[2], row[3], row[4], row[5], row[6], row[7], row[8], row[12], row[13], row[16]))\n"
   ]
  },
  {
   "cell_type": "code",
   "execution_count": 4,
   "metadata": {},
   "outputs": [
    {
     "name": "stdout",
     "output_type": "stream",
     "text": [
      "6821\n"
     ]
    }
   ],
   "source": [
    "# check the number of rows in your csv file\n",
    "with open('event_datafile_new.csv', 'r', encoding = 'utf8') as f:\n",
    "    print(sum(1 for line in f))"
   ]
  },
  {
   "cell_type": "markdown",
   "metadata": {},
   "source": [
    "# Part II. Complete the Apache Cassandra coding portion of your project. \n",
    "\n",
    "## Now you are ready to work with the CSV file titled <font color=red>event_datafile_new.csv</font>, located within the Workspace directory.  The event_datafile_new.csv contains the following columns: \n",
    "- artist \n",
    "- firstName of user\n",
    "- gender of user\n",
    "- item number in session\n",
    "- last name of user\n",
    "- length of the song\n",
    "- level (paid or free song)\n",
    "- location of the user\n",
    "- sessionId\n",
    "- song title\n",
    "- userId\n",
    "\n",
    "The image below is a screenshot of what the denormalized data should appear like in the <font color=red>**event_datafile_new.csv**</font> after the code above is run:<br>\n",
    "\n",
    "<img src=\"images/image_event_datafile_new.jpg\">"
   ]
  },
  {
   "cell_type": "markdown",
   "metadata": {},
   "source": [
    "## Begin writing your Apache Cassandra code in the cells below"
   ]
  },
  {
   "cell_type": "markdown",
   "metadata": {},
   "source": [
    "#### Creating a Cluster"
   ]
  },
  {
   "cell_type": "code",
   "execution_count": 5,
   "metadata": {},
   "outputs": [],
   "source": [
    "# This should make a connection to a Cassandra instance your local machine \n",
    "\n",
    "from cassandra.cluster import Cluster\n",
    "try:\n",
    "    cluster = Cluster(['127.0.0.1'])\n",
    "    # Creating a session variable to  establish connection and begin executing queries\n",
    "    session = cluster.connect()\n",
    "except Exception as e:\n",
    "    print(e)"
   ]
  },
  {
   "cell_type": "markdown",
   "metadata": {},
   "source": [
    "#### Create Keyspace"
   ]
  },
  {
   "cell_type": "code",
   "execution_count": 6,
   "metadata": {},
   "outputs": [],
   "source": [
    "# TO-DO: Create a Keyspace \n",
    "try:\n",
    "    session.execute(\"\"\"\n",
    "    CREATE KEYSPACE IF NOT EXISTS sparkfy \n",
    "    WITH REPLICATION = \n",
    "    { 'class' : 'SimpleStrategy', 'replication_factor' : 1 }\"\"\"\n",
    ")\n",
    "\n",
    "except Exception as e:\n",
    "    print(e)"
   ]
  },
  {
   "cell_type": "markdown",
   "metadata": {},
   "source": [
    "#### Set Keyspace"
   ]
  },
  {
   "cell_type": "code",
   "execution_count": 7,
   "metadata": {},
   "outputs": [],
   "source": [
    "# TO-DO: Set KEYSPACE to the keyspace specified above\n",
    "try:\n",
    "    session.set_keyspace('sparkfy')\n",
    "except Exception as e:\n",
    "    print(e)"
   ]
  },
  {
   "cell_type": "markdown",
   "metadata": {},
   "source": [
    "## Functions"
   ]
  },
  {
   "cell_type": "code",
   "execution_count": 8,
   "metadata": {},
   "outputs": [],
   "source": [
    "def drop_tables(*args):\n",
    "    \"\"\"Receive table names and create in cassasandra DB, \n",
    "    drop if exists. \n",
    "       \n",
    "       input:\n",
    "           *args: 1 or more names of tables\n",
    "       output:\n",
    "           Void if everything is correct.\n",
    "    \"\"\"\n",
    "    for table_name in args:\n",
    "        try:\n",
    "            drop_query = 'DROP TABLE IF EXISTS {}'.format(table_name)\n",
    "            session.execute(drop_query)\n",
    "            print(\"Table {} successfully dropped\".format(table_name))\n",
    "        except Exception as e:\n",
    "            print(e)"
   ]
  },
  {
   "cell_type": "code",
   "execution_count": 9,
   "metadata": {},
   "outputs": [],
   "source": [
    "def create_table(table_name, columns_settings):\n",
    "    \"\"\"Creates a table with desired columns \n",
    "       \n",
    "       input:\n",
    "           table_name: string name of table\n",
    "           columns_settings: string containing columns names and types\n",
    "       output:\n",
    "           Void if everything is correct.\n",
    "    \"\"\"\n",
    "    query = f\"CREATE TABLE IF NOT EXISTS {table_name}\"\n",
    "    query = query + f\"{columns_settings}\"\n",
    "    \n",
    "    try:\n",
    "        session.execute(query)\n",
    "        print(\"Table {} successfully created\".format(table_name))\n",
    "    except Exception as e:\n",
    "        print(e)  \n"
   ]
  },
  {
   "cell_type": "code",
   "execution_count": 10,
   "metadata": {},
   "outputs": [],
   "source": [
    "def populate_table(table_name, columns, values_positions, dtypes):\n",
    "    '''\n",
    "    Pipeline to insert data to Apache Cassandra table from CSV File.\n",
    "    Input:\n",
    "        table_name: Name of table to insert data\n",
    "        columns: string Columns in table to insert\n",
    "        values_positions: list of indices to pass to INSERT statement\n",
    "        dtypes: list of values to convert `values` of data to insert\n",
    "    Output:\n",
    "        Void if everything is correct\n",
    "    '''\n",
    "    \n",
    "    file = 'event_datafile_new.csv'\n",
    "    \n",
    "    assert(len(dtypes) == len(values_positions))\n",
    "    \n",
    "    with open(file, encoding = 'utf8') as f:\n",
    "        csvreader = csv.reader(f)\n",
    "        next(csvreader) # skip header\n",
    "        for line in csvreader:\n",
    "            query = f\"INSERT INTO {table_name} ({columns})\" \n",
    "            query = query + f\" VALUES(%s {(len(dtypes) - 1)*', %s'})\"\n",
    "            data = tuple([ dtype(line[x]) for x, dtype in zip(values, dtypes)])\n",
    "            session.execute(query, data)"
   ]
  },
  {
   "cell_type": "code",
   "execution_count": 13,
   "metadata": {},
   "outputs": [],
   "source": [
    "def query_execution(query):\n",
    "    try:\n",
    "        result = session.execute(f\"{query}\")\n",
    "    except Exception as e:\n",
    "        print(e)\n",
    "    for row in result:\n",
    "        print(row)\n",
    "\n",
    "def check_inserted_data(query):\n",
    "    try:\n",
    "        rows = session.execute(f\"{query}\")\n",
    "    except Exception as e:\n",
    "        print(e)\n",
    "        \n",
    "    print(\"{} rows inserted\".format(len(list(rows))))"
   ]
  },
  {
   "cell_type": "code",
   "execution_count": 11,
   "metadata": {},
   "outputs": [
    {
     "name": "stdout",
     "output_type": "stream",
     "text": [
      "Table music_by_session successfully dropped\n",
      "Table music_by_session successfully created\n"
     ]
    }
   ],
   "source": [
    "# CREATE AND POPULATE TABLE\n",
    "cols = \"\"\"(session_id int, \n",
    "           item_session int, \n",
    "           user_id int, \n",
    "           first_name text, \n",
    "           last_name text, \n",
    "           artist text, \n",
    "           song text, \n",
    "           length decimal, \n",
    "           PRIMARY KEY(session_id, item_session))\n",
    "           \"\"\"\n",
    "drop_tables('music_by_session')\n",
    "create_table('music_by_session', cols) \n",
    "\n",
    "cols = \"session_id, item_session, user_id, first_name, last_name, artist, song, length\"\n",
    "values = [8,3,10,1,4,0,9,5] #positions for each row\n",
    "types = [int, int, int, str,str,str,str, float] # types for each value in row\n",
    "\n",
    "populate_table('music_by_session', cols, values, types)"
   ]
  },
  {
   "cell_type": "code",
   "execution_count": 14,
   "metadata": {},
   "outputs": [
    {
     "name": "stdout",
     "output_type": "stream",
     "text": [
      "6820 rows inserted\n"
     ]
    }
   ],
   "source": [
    "## Select statement to verify if the data was inserted into the table\n",
    "check_inserted_data(\"SELECT * FROM music_by_session\")"
   ]
  },
  {
   "cell_type": "markdown",
   "metadata": {},
   "source": [
    "### Query 1:  Give me the artist, song title and song's length in the music app history that was heard during \n",
    "###### sessionId = 338, and itemInSession = 4"
   ]
  },
  {
   "cell_type": "code",
   "execution_count": 15,
   "metadata": {},
   "outputs": [
    {
     "name": "stdout",
     "output_type": "stream",
     "text": [
      "Row(artist='Faithless', song='Music Matters (Mark Knight Dub)', length=Decimal('495.3073'))\n"
     ]
    }
   ],
   "source": [
    "# Select First Query\n",
    "query_execution('''SELECT artist, song,length \n",
    "                   FROM music_by_session \n",
    "                   WHERE session_id = 338 \n",
    "                   AND item_session = 4''')"
   ]
  },
  {
   "cell_type": "markdown",
   "metadata": {},
   "source": [
    "### COPY AND REPEAT THE ABOVE THREE CELLS FOR EACH OF THE THREE QUESTIONS"
   ]
  },
  {
   "cell_type": "code",
   "execution_count": 16,
   "metadata": {},
   "outputs": [
    {
     "name": "stdout",
     "output_type": "stream",
     "text": [
      "Table song_by_user_session successfully dropped\n",
      "Table song_by_user_session successfully created\n"
     ]
    }
   ],
   "source": [
    "# CREATE AND POPULATE TABLE\n",
    "cols = \"\"\"(user_id int,\n",
    "           session_id int, \n",
    "           item_session int,\n",
    "           first_name text, \n",
    "           last_name text, \n",
    "           artist text, \n",
    "           song text, \n",
    "           PRIMARY KEY(user_id, session_id))\n",
    "           \"\"\"\n",
    "drop_tables('song_by_user_session')\n",
    "create_table('song_by_user_session', cols) \n",
    "\n",
    "\n",
    "cols = \"user_id, session_id, item_session, first_name, last_name, artist, song\"\n",
    "values = [10,8,3,1,4,0,9] #positions for each row\n",
    "types = [int, int, int, str, str, str, str] # types for each value in row\n",
    "\n",
    "populate_table('song_by_user_session', cols, values, types)"
   ]
  },
  {
   "cell_type": "code",
   "execution_count": 17,
   "metadata": {},
   "outputs": [
    {
     "name": "stdout",
     "output_type": "stream",
     "text": [
      "776 rows inserted\n"
     ]
    }
   ],
   "source": [
    "## Select statement to verify if the data was inserted into the table\n",
    "check_inserted_data(\"SELECT * FROM song_by_user_session\")"
   ]
  },
  {
   "cell_type": "markdown",
   "metadata": {},
   "source": [
    "### Query 2: Give me only the following: name of artist, song (sorted by itemInSession) and user (first and last name)\n",
    "###### for userid = 10, sessionid = 182"
   ]
  },
  {
   "cell_type": "code",
   "execution_count": 18,
   "metadata": {},
   "outputs": [
    {
     "name": "stdout",
     "output_type": "stream",
     "text": [
      "Row(artist='Lonnie Gordon', song='Catch You Baby (Steve Pitron & Max Sanna Radio Edit)', first_name='Sylvie', last_name='Cruz')\n"
     ]
    }
   ],
   "source": [
    "# Select Second Query\n",
    "query_execution('''SELECT artist, song, first_name, last_name \n",
    "                   FROM song_by_user_session \n",
    "                   WHERE user_id = 10 \n",
    "                   AND session_id = 182''')"
   ]
  },
  {
   "cell_type": "code",
   "execution_count": 19,
   "metadata": {},
   "outputs": [
    {
     "name": "stdout",
     "output_type": "stream",
     "text": [
      "Table user_activity successfully dropped\n",
      "Table user_activity successfully created\n"
     ]
    }
   ],
   "source": [
    "# CREATE AND POPULATE TABLE\n",
    "cols = \"\"\"(song text,\n",
    "           user_id int,\n",
    "           first_name text, \n",
    "           last_name text,\n",
    "           PRIMARY KEY(song, user_id))\n",
    "           \"\"\"\n",
    "drop_tables('user_activity')\n",
    "create_table('user_activity', cols) \n",
    "\n",
    "cols = \"song, user_id, first_name, last_name\"\n",
    "values = [9,10,1,4] # positions for each row\n",
    "types = [str, int, str, str]  # types for each value in row\n",
    "\n",
    "populate_table('user_activity', cols, values, types)"
   ]
  },
  {
   "cell_type": "code",
   "execution_count": 20,
   "metadata": {},
   "outputs": [
    {
     "name": "stdout",
     "output_type": "stream",
     "text": [
      "6618 rows inserted\n"
     ]
    }
   ],
   "source": [
    "## Select statement to verify if the data was inserted into the table\n",
    "check_inserted_data(\"SELECT * FROM user_activity\")"
   ]
  },
  {
   "cell_type": "markdown",
   "metadata": {},
   "source": [
    "### Query 3: Give me every user name (first and last) in my music app history who listened to the song 'All Hands Against His Own'"
   ]
  },
  {
   "cell_type": "code",
   "execution_count": 21,
   "metadata": {},
   "outputs": [
    {
     "name": "stdout",
     "output_type": "stream",
     "text": [
      "Row(first_name='Jacqueline', last_name='Lynch')\n",
      "Row(first_name='Tegan', last_name='Levine')\n",
      "Row(first_name='Sara', last_name='Johnson')\n"
     ]
    }
   ],
   "source": [
    "# Select Third Query\n",
    "query_execution(\"\"\"SELECT first_name, last_name\n",
    "                   FROM user_activity \n",
    "                   WHERE song = 'All Hands Against His Own'\"\"\")"
   ]
  },
  {
   "cell_type": "markdown",
   "metadata": {},
   "source": [
    "### Drop the tables before closing out the sessions"
   ]
  },
  {
   "cell_type": "code",
   "execution_count": 23,
   "metadata": {},
   "outputs": [
    {
     "name": "stdout",
     "output_type": "stream",
     "text": [
      "Table music_by_session successfully dropped\n",
      "Table song_by_user_session successfully dropped\n",
      "Table user_activity successfully dropped\n"
     ]
    }
   ],
   "source": [
    "drop_tables('music_by_session', 'song_by_user_session', 'user_activity')"
   ]
  },
  {
   "cell_type": "markdown",
   "metadata": {},
   "source": [
    "### Close the session and cluster connection¶"
   ]
  },
  {
   "cell_type": "code",
   "execution_count": 24,
   "metadata": {},
   "outputs": [],
   "source": [
    "session.shutdown()\n",
    "cluster.shutdown()"
   ]
  }
 ],
 "metadata": {
  "kernelspec": {
   "display_name": "Python 3",
   "language": "python",
   "name": "python3"
  },
  "language_info": {
   "codemirror_mode": {
    "name": "ipython",
    "version": 3
   },
   "file_extension": ".py",
   "mimetype": "text/x-python",
   "name": "python",
   "nbconvert_exporter": "python",
   "pygments_lexer": "ipython3",
   "version": "3.6.3"
  }
 },
 "nbformat": 4,
 "nbformat_minor": 2
}
